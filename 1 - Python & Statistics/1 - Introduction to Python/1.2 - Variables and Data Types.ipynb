{
 "cells": [
  {
   "cell_type": "markdown",
   "source": [
    "# Python Variables and Data Types Tutorial\n",
    "\n",
    "In Python, variables are used to store data, and data types define the type of data a variable can hold. This tutorial will cover variables and common data types in Python."
   ],
   "metadata": {
    "collapsed": false
   },
   "id": "4fdbbc58cbe1b504"
  },
  {
   "cell_type": "markdown",
   "source": [
    "## Table of Contents\n",
    "1. [Variables](#variables)\n",
    "2. [Common Data Types](#common-data-types)\n",
    "   - [2.1. Integer](#integer)\n",
    "   - [2.2. Float](#float)\n",
    "   - [2.3. String](#string)\n",
    "   - [2.4. Boolean](#boolean)\n",
    "   - [2.5. List](#list)\n",
    "   - [2.6. Tuple](#tuple)\n",
    "   - [2.7. Dictionary](#dictionary)"
   ],
   "metadata": {
    "collapsed": false
   },
   "id": "cb454105d35e5dd5"
  },
  {
   "cell_type": "markdown",
   "source": [
    "\n",
    "\n",
    "## 1. Variables <a name=\"variables\"></a>\n",
    "\n",
    "In Python, a variable is a name that refers to a value. You can think of it as a label you assign to data. Variables are created when you assign a value to them. For example:"
   ],
   "metadata": {
    "collapsed": false
   },
   "id": "e42582b5a9902adb"
  },
  {
   "cell_type": "code",
   "execution_count": null,
   "outputs": [],
   "source": [
    "my_variable = 42"
   ],
   "metadata": {
    "collapsed": false
   },
   "id": "9b078efe3b8d4b28"
  },
  {
   "cell_type": "markdown",
   "source": [
    "In this example, `my_variable` is the variable, and `42` is the value assigned to it. Variable names can contain letters, numbers, and underscores but must start with a letter or underscore. Python is case-sensitive, so `my_variable` and `My_Variable` are considered different variables."
   ],
   "metadata": {
    "collapsed": false
   },
   "id": "4417f4917083ff0e"
  },
  {
   "cell_type": "markdown",
   "source": [
    "## 2. Common Data Types <a name=\"common-data-types\"></a>\n",
    "\n",
    "### 2.1. Integer <a name=\"integer\"></a>\n",
    "\n",
    "Integers are whole numbers without a decimal point. They can be positive or negative."
   ],
   "metadata": {
    "collapsed": false
   },
   "id": "bb99fb49d97e676b"
  },
  {
   "cell_type": "code",
   "execution_count": null,
   "outputs": [],
   "source": [
    "my_integer = 10"
   ],
   "metadata": {
    "collapsed": false
   },
   "id": "9c0c16edd0b255b2"
  },
  {
   "cell_type": "markdown",
   "source": [
    "### 2.2. Float <a name=\"float\"></a>\n",
    "\n",
    "Floats (floating-point numbers) are numbers with a decimal point."
   ],
   "metadata": {
    "collapsed": false
   },
   "id": "b1b40739e05fa01d"
  },
  {
   "cell_type": "code",
   "execution_count": null,
   "outputs": [],
   "source": [
    "my_float = 3.14"
   ],
   "metadata": {
    "collapsed": false
   },
   "id": "c98055c78fa95760"
  },
  {
   "cell_type": "markdown",
   "source": [
    "### 2.3. String <a name=\"string\"></a>\n",
    "\n",
    "Strings are sequences of characters enclosed in single or double quotes."
   ],
   "metadata": {
    "collapsed": false
   },
   "id": "ae65990c18d5ece3"
  },
  {
   "cell_type": "code",
   "execution_count": null,
   "outputs": [],
   "source": [
    "my_string = \"Hello, Python!\""
   ],
   "metadata": {
    "collapsed": false
   },
   "id": "e0ecb615b9899124"
  },
  {
   "cell_type": "markdown",
   "source": [
    "\n",
    "### 2.4. Boolean <a name=\"boolean\"></a>\n",
    "\n",
    "Booleans represent two values: `True` or `False`. They are often used for making logical decisions."
   ],
   "metadata": {
    "collapsed": false
   },
   "id": "260c62faaae765e0"
  },
  {
   "cell_type": "code",
   "execution_count": null,
   "outputs": [],
   "source": [
    "is_python_fun = True"
   ],
   "metadata": {
    "collapsed": false
   },
   "id": "8408703e90d56367"
  },
  {
   "cell_type": "markdown",
   "source": [
    "\n",
    "### 2.5. List <a name=\"list\"></a>\n",
    "\n",
    "Lists are ordered collections of items that can be of different data types. They are defined with square brackets."
   ],
   "metadata": {
    "collapsed": false
   },
   "id": "b05bf1a40ea4d245"
  },
  {
   "cell_type": "code",
   "execution_count": null,
   "outputs": [],
   "source": [
    "my_list = [1, 2, \"three\", 4.0]"
   ],
   "metadata": {
    "collapsed": false
   },
   "id": "9c9414f5abca4180"
  },
  {
   "cell_type": "markdown",
   "source": [
    "### 2.6. Tuple <a name=\"tuple\"></a>\n",
    "\n",
    "Tuples are similar to lists but are immutable, meaning their elements cannot be changed after creation. They are defined with parentheses."
   ],
   "metadata": {
    "collapsed": false
   },
   "id": "9c04b8c2f6055a06"
  },
  {
   "cell_type": "code",
   "execution_count": null,
   "outputs": [],
   "source": [
    "my_tuple = (1, 2, \"three\", 4.0)"
   ],
   "metadata": {
    "collapsed": false
   },
   "id": "1f5f4522a98c201"
  },
  {
   "cell_type": "markdown",
   "source": [
    "\n",
    "### 2.7. Dictionary <a name=\"dictionary\"></a>\n",
    "\n",
    "Dictionaries are collections of key-value pairs. They are defined with curly braces."
   ],
   "metadata": {
    "collapsed": false
   },
   "id": "f17218daf5915f7b"
  },
  {
   "cell_type": "code",
   "execution_count": null,
   "outputs": [],
   "source": [
    "my_dict = {\"name\": \"Alice\", \"age\": 30, \"city\": \"Wonderland\"}"
   ],
   "metadata": {
    "collapsed": false
   },
   "id": "7b801aede8f49613"
  },
  {
   "cell_type": "markdown",
   "source": [
    "Now you have a basic understanding of variables and common data types in Python. You can use these data types to store and manipulate data in your Python programs."
   ],
   "metadata": {
    "collapsed": false
   },
   "id": "eef1c8bb772f190b"
  }
 ],
 "metadata": {
  "kernelspec": {
   "display_name": "Python 3",
   "language": "python",
   "name": "python3"
  },
  "language_info": {
   "codemirror_mode": {
    "name": "ipython",
    "version": 2
   },
   "file_extension": ".py",
   "mimetype": "text/x-python",
   "name": "python",
   "nbconvert_exporter": "python",
   "pygments_lexer": "ipython2",
   "version": "2.7.6"
  }
 },
 "nbformat": 4,
 "nbformat_minor": 5
}
