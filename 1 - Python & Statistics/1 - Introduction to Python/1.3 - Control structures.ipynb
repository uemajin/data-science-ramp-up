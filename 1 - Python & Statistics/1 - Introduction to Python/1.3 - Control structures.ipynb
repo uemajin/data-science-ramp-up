{
 "cells": [
  {
   "cell_type": "markdown",
   "source": [
    "# Python Control Structures and Exception Handling Tutorial\n",
    "\n",
    "Control structures in Python are used to control the flow of your program, and exception handling helps manage errors gracefully. This tutorial will cover common control structures, including conditional statements, loops, and exception handling in Python.\n"
   ],
   "metadata": {
    "collapsed": false
   },
   "id": "dc276c2c41b9bff0"
  },
  {
   "cell_type": "markdown",
   "source": [
    "## Table of Contents\n",
    "1. [Conditional Statements](#conditional-statements)\n",
    "- [1.1. if Statement](#if-statement)\n",
    "- [1.2. elif Statement](#elif-statement)\n",
    "- [1.3. else Statement](#else-statement)\n",
    "2. [Loops](#loops)\n",
    "- [2.1. for Loop](#for-loop)\n",
    "- [2.2. while Loop](#while-loop)\n",
    "3. [Control Statements](#control-statements)\n",
    "- [3.1. break Statement](#break-statement)\n",
    "- [3.2. continue Statement](#continue-statement)\n",
    "4. [Exception Handling](#exception-handling)\n",
    "- [4.1. try and except](#try-and-except)\n",
    "- [4.2. raise Exception](#raise-exception)"
   ],
   "metadata": {
    "collapsed": false
   },
   "id": "5e6dfe09c4ec014d"
  },
  {
   "cell_type": "markdown",
   "source": [],
   "metadata": {
    "collapsed": false
   },
   "id": "ea256851b76b385"
  },
  {
   "cell_type": "markdown",
   "source": [
    "## 1. Conditional Statements <a name=\"conditional-statements\"></a>\n",
    "\n",
    "Conditional statements are used to execute different code blocks based on whether a certain condition is true or false."
   ],
   "metadata": {
    "collapsed": false
   },
   "id": "149e11d6b5a78696"
  },
  {
   "cell_type": "markdown",
   "source": [
    "### 1.1. if Statement <a name=\"if-statement\"></a>\n",
    "\n",
    "The `if` statement is used to execute a block of code only if a condition is true."
   ],
   "metadata": {
    "collapsed": false
   },
   "id": "bc4b220a4768c1f4"
  },
  {
   "cell_type": "code",
   "execution_count": null,
   "outputs": [],
   "source": [
    "x = 10\n",
    "if x > 5:\n",
    "    print(\"x is greater than 5\")"
   ],
   "metadata": {
    "collapsed": false
   },
   "id": "38e6a54505307e6e"
  },
  {
   "cell_type": "markdown",
   "source": [
    "### 1.2. elif Statement <a name=\"elif-statement\"></a>\n",
    "\n",
    "The `elif` statement allows you to check multiple conditions in sequence."
   ],
   "metadata": {
    "collapsed": false
   },
   "id": "f44c9678d5c07584"
  },
  {
   "cell_type": "code",
   "execution_count": null,
   "outputs": [],
   "source": [
    "x = 5\n",
    "if x > 10:\n",
    "    print(\"x is greater than 10\")\n",
    "elif x > 5:\n",
    "    print(\"x is greater than 5 but not greater than 10\")"
   ],
   "metadata": {
    "collapsed": false
   },
   "id": "5a26fc57a30af038"
  },
  {
   "cell_type": "markdown",
   "source": [
    "\n",
    "### 1.3. else Statement <a name=\"else-statement\"></a>\n",
    "\n",
    "The `else` statement is used to execute a block of code if the condition in the `if` or `elif` statement is false.\n"
   ],
   "metadata": {
    "collapsed": false
   },
   "id": "b81d5a88e0bb4932"
  },
  {
   "cell_type": "code",
   "execution_count": null,
   "outputs": [],
   "source": [
    "x = 3\n",
    "if x > 5:\n",
    "    print(\"x is greater than 5\")\n",
    "else:\n",
    "    print(\"x is not greater than 5\")"
   ],
   "metadata": {
    "collapsed": false
   },
   "id": "7b9fd21bdbd5935b"
  },
  {
   "cell_type": "markdown",
   "source": [
    "## 2. Loops <a name=\"loops\"></a>\n",
    "\n",
    "Loops allow you to execute a block of code repeatedly."
   ],
   "metadata": {
    "collapsed": false
   },
   "id": "5bfeb238502150fe"
  },
  {
   "cell_type": "markdown",
   "source": [
    "\n",
    "### 2.1. for Loop <a name=\"for-loop\"></a>\n",
    "\n",
    "The `for` loop is used to iterate over a sequence (e.g., a list or string) or any other iterable object."
   ],
   "metadata": {
    "collapsed": false
   },
   "id": "a945fea68cef7b0a"
  },
  {
   "cell_type": "code",
   "execution_count": null,
   "outputs": [],
   "source": [
    "fruits = [\"apple\", \"banana\", \"cherry\"]\n",
    "for fruit in fruits:\n",
    "    print(fruit)"
   ],
   "metadata": {
    "collapsed": false
   },
   "id": "68c1b413e2da1df4"
  },
  {
   "cell_type": "markdown",
   "source": [
    "\n",
    "### 2.2. while Loop <a name=\"while-loop\"></a>\n",
    "\n",
    "The `while` loop is used to execute a block of code as long as a condition is true."
   ],
   "metadata": {
    "collapsed": false
   },
   "id": "d7dea8389d153636"
  },
  {
   "cell_type": "code",
   "execution_count": null,
   "outputs": [],
   "source": [
    "x = 1\n",
    "while x <= 5:\n",
    "    print(x)\n",
    "    x += 1"
   ],
   "metadata": {
    "collapsed": false
   },
   "id": "90939a10dc1acde3"
  },
  {
   "cell_type": "markdown",
   "source": [
    "## 3. Control Statements <a name=\"control-statements\"></a>\n",
    "\n",
    "Control statements are used to change the flow of a loop or conditional statement."
   ],
   "metadata": {
    "collapsed": false
   },
   "id": "54da28fc77d0eaa6"
  },
  {
   "cell_type": "markdown",
   "source": [
    "\n",
    "### 3.1. break Statement <a name=\"break-statement\"></a>\n",
    "\n",
    "The `break` statement is used to exit a loop prematurely."
   ],
   "metadata": {
    "collapsed": false
   },
   "id": "234a863161b71038"
  },
  {
   "cell_type": "code",
   "execution_count": null,
   "outputs": [],
   "source": [
    "fruits = [\"apple\", \"banana\", \"cherry\"]\n",
    "for fruit in fruits:\n",
    "    if fruit == \"banana\":\n",
    "        break\n",
    "    print(fruit)"
   ],
   "metadata": {
    "collapsed": false
   },
   "id": "c1d4acc0396c6682"
  },
  {
   "cell_type": "markdown",
   "source": [
    "### 3.2. continue Statement <a name=\"continue-statement\"></a>\n",
    "\n",
    "The `continue` statement is used to skip the current iteration of a loop and continue with the next one."
   ],
   "metadata": {
    "collapsed": false
   },
   "id": "a59c038ee36f6187"
  },
  {
   "cell_type": "code",
   "execution_count": null,
   "outputs": [],
   "source": [
    "fruits = [\"apple\", \"banana\", \"cherry\"]\n",
    "for fruit in fruits:\n",
    "    if fruit == \"banana\":\n",
    "        continue\n",
    "    print(fruit)"
   ],
   "metadata": {
    "collapsed": false
   },
   "id": "fc47ef059d0c6c7b"
  },
  {
   "cell_type": "markdown",
   "source": [
    "## 4. Exception Handling <a name=\"exception-handling\"></a>\n",
    "\n",
    "Exception handling is used to manage errors gracefully in your code.\n"
   ],
   "metadata": {
    "collapsed": false
   },
   "id": "c3904d270d525559"
  },
  {
   "cell_type": "markdown",
   "source": [
    "### 4.1. try and except <a name=\"try-and-except\"></a>\n",
    "\n",
    "The `try` and `except` blocks are used to catch and handle exceptions (errors) that might occur during execution."
   ],
   "metadata": {
    "collapsed": false
   },
   "id": "1e2609350b457fb5"
  },
  {
   "cell_type": "code",
   "execution_count": null,
   "outputs": [],
   "source": [
    "try:\n",
    "    result = 10 / 0\n",
    "except ZeroDivisionError:\n",
    "    print(\"Division by zero is not allowed\")"
   ],
   "metadata": {
    "collapsed": false
   },
   "id": "2af517efa0a0c5f7"
  },
  {
   "cell_type": "markdown",
   "source": [
    "### 4.2. raise Exception <a name=\"raise-exception\"></a>\n",
    "\n",
    "You can raise custom exceptions using the `raise` statement."
   ],
   "metadata": {
    "collapsed": false
   },
   "id": "412b73702f0d7d7a"
  },
  {
   "cell_type": "code",
   "execution_count": null,
   "id": "initial_id",
   "metadata": {
    "collapsed": true
   },
   "outputs": [],
   "source": [
    "age = -1\n",
    "if age < 0:\n",
    "    raise ValueError(\"Age cannot be negative\")"
   ]
  },
  {
   "cell_type": "markdown",
   "source": [
    "With these control structures and exception handling, you can create robust and error-tolerant Python programs that respond to various conditions and gracefully manage unexpected errors."
   ],
   "metadata": {
    "collapsed": false
   },
   "id": "3141a2ef10fb5632"
  }
 ],
 "metadata": {
  "kernelspec": {
   "display_name": "Python 3",
   "language": "python",
   "name": "python3"
  },
  "language_info": {
   "codemirror_mode": {
    "name": "ipython",
    "version": 2
   },
   "file_extension": ".py",
   "mimetype": "text/x-python",
   "name": "python",
   "nbconvert_exporter": "python",
   "pygments_lexer": "ipython2",
   "version": "2.7.6"
  }
 },
 "nbformat": 4,
 "nbformat_minor": 5
}
